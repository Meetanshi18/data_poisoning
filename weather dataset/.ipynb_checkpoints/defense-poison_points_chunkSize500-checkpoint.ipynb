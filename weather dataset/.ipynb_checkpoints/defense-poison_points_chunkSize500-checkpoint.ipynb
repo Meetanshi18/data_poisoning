{
 "cells": [
  {
   "cell_type": "code",
   "execution_count": 1,
   "metadata": {},
   "outputs": [],
   "source": [
    "import pickle"
   ]
  },
  {
   "cell_type": "code",
   "execution_count": 2,
   "metadata": {},
   "outputs": [
    {
     "ename": "FileNotFoundError",
     "evalue": "[Errno 2] No such file or directory: 'x_poison.sav'",
     "output_type": "error",
     "traceback": [
      "\u001b[1;31m---------------------------------------------------------------------------\u001b[0m",
      "\u001b[1;31mFileNotFoundError\u001b[0m                         Traceback (most recent call last)",
      "\u001b[1;32m<ipython-input-2-7cfc503abe02>\u001b[0m in \u001b[0;36m<module>\u001b[1;34m\u001b[0m\n\u001b[1;32m----> 1\u001b[1;33m \u001b[0mx_poison\u001b[0m \u001b[1;33m=\u001b[0m \u001b[0mpickle\u001b[0m\u001b[1;33m.\u001b[0m\u001b[0mload\u001b[0m\u001b[1;33m(\u001b[0m\u001b[0mopen\u001b[0m\u001b[1;33m(\u001b[0m\u001b[1;34m'x_poison.sav'\u001b[0m\u001b[1;33m,\u001b[0m \u001b[1;34m'rb'\u001b[0m\u001b[1;33m)\u001b[0m\u001b[1;33m)\u001b[0m\u001b[1;33m\u001b[0m\u001b[1;33m\u001b[0m\u001b[0m\n\u001b[0m\u001b[0;32m      2\u001b[0m \u001b[0my_poison\u001b[0m \u001b[1;33m=\u001b[0m \u001b[0mpickle\u001b[0m\u001b[1;33m.\u001b[0m\u001b[0mload\u001b[0m\u001b[1;33m(\u001b[0m\u001b[0mopen\u001b[0m\u001b[1;33m(\u001b[0m\u001b[1;34m'y_poison.sav'\u001b[0m\u001b[1;33m,\u001b[0m \u001b[1;34m'rb'\u001b[0m\u001b[1;33m)\u001b[0m\u001b[1;33m)\u001b[0m\u001b[1;33m\u001b[0m\u001b[1;33m\u001b[0m\u001b[0m\n",
      "\u001b[1;31mFileNotFoundError\u001b[0m: [Errno 2] No such file or directory: 'x_poison.sav'"
     ]
    }
   ],
   "source": [
    "x_poison = pickle.load(open('x_poison.sav', 'rb'))\n",
    "y_poison = pickle.load(open('y_poison.sav', 'rb'))"
   ]
  },
  {
   "cell_type": "code",
   "execution_count": null,
   "metadata": {},
   "outputs": [],
   "source": [
    "x_poison.head()"
   ]
  },
  {
   "cell_type": "code",
   "execution_count": null,
   "metadata": {},
   "outputs": [],
   "source": [
    "y_poison.head()"
   ]
  },
  {
   "cell_type": "code",
   "execution_count": null,
   "metadata": {},
   "outputs": [],
   "source": [
    "print(x_poison.shape, y_poison.shape)"
   ]
  },
  {
   "cell_type": "code",
   "execution_count": null,
   "metadata": {},
   "outputs": [],
   "source": [
    "x_clean = pickle.load(open('X_preprocessed.sav', 'rb'))\n",
    "y_clean = pickle.load(open('Y_preprocessed.sav', 'rb'))"
   ]
  },
  {
   "cell_type": "code",
   "execution_count": null,
   "metadata": {},
   "outputs": [],
   "source": [
    "print(x_clean.shape, y_clean.shape)"
   ]
  },
  {
   "cell_type": "code",
   "execution_count": null,
   "metadata": {},
   "outputs": [],
   "source": [
    "import pandas as pd"
   ]
  },
  {
   "cell_type": "code",
   "execution_count": null,
   "metadata": {},
   "outputs": [],
   "source": [
    "df_chunks = []"
   ]
  },
  {
   "cell_type": "code",
   "execution_count": null,
   "metadata": {},
   "outputs": [],
   "source": [
    "i = 0\n",
    "for _ in range(40):\n",
    "    if i+500 < len(x_poison):\n",
    "        df_chunks.append(x_poison.iloc[i:i + 500, :])\n",
    "    else:\n",
    "        df_chunks.append(x_poison.iloc[i:, :])\n",
    "    i = i + 500"
   ]
  },
  {
   "cell_type": "code",
   "execution_count": null,
   "metadata": {},
   "outputs": [],
   "source": [
    "count = 0\n",
    "for chunk in df_chunks:\n",
    "    count += 1\n",
    "    print(chunk)\n",
    "print(count)"
   ]
  },
  {
   "cell_type": "code",
   "execution_count": null,
   "metadata": {},
   "outputs": [],
   "source": [
    "y_chunks = []\n",
    "i = 0\n",
    "for _ in range(40):\n",
    "    if i+500 < len(y_poison):\n",
    "        y_chunks.append(y_poison.iloc[i:i + 500, :])\n",
    "    else:\n",
    "        y_chunks.append(y_poison.iloc[i:, :])\n",
    "    i = i + 500"
   ]
  },
  {
   "cell_type": "code",
   "execution_count": null,
   "metadata": {},
   "outputs": [],
   "source": [
    "count = 0\n",
    "for chunk in y_chunks:\n",
    "    count += 1\n",
    "    print(chunk)\n",
    "print(count)"
   ]
  },
  {
   "cell_type": "code",
   "execution_count": null,
   "metadata": {},
   "outputs": [],
   "source": [
    "filename = 'original_model.sav'\n",
    "clean_model = pickle.load(open(filename, 'rb'))"
   ]
  },
  {
   "cell_type": "code",
   "execution_count": null,
   "metadata": {},
   "outputs": [],
   "source": [
    "x_clean = pickle.load(open('X_preprocessed.sav', 'rb'))\n",
    "y_clean = pickle.load(open('Y_preprocessed.sav', 'rb'))"
   ]
  },
  {
   "cell_type": "code",
   "execution_count": null,
   "metadata": {},
   "outputs": [],
   "source": [
    "from sklearn.metrics import mean_squared_error"
   ]
  },
  {
   "cell_type": "code",
   "execution_count": null,
   "metadata": {},
   "outputs": [],
   "source": [
    "from sklearn.linear_model import LinearRegression\n",
    "from sklearn.model_selection import train_test_split"
   ]
  },
  {
   "cell_type": "code",
   "execution_count": null,
   "metadata": {},
   "outputs": [],
   "source": [
    "print(x_clean.shape, y_clean.shape)"
   ]
  },
  {
   "cell_type": "code",
   "execution_count": null,
   "metadata": {},
   "outputs": [],
   "source": [
    "x_new = x_clean\n",
    "y_new = y_clean"
   ]
  },
  {
   "cell_type": "code",
   "execution_count": null,
   "metadata": {},
   "outputs": [],
   "source": [
    "rmse_array = []"
   ]
  },
  {
   "cell_type": "code",
   "execution_count": null,
   "metadata": {},
   "outputs": [],
   "source": [
    "for _ in range(5):\n",
    "\n",
    "    least_error_df = pd.DataFrame()\n",
    "    min_error = 10000000\n",
    "    least_error_index = 10000000\n",
    "    \n",
    "    for index, chunk in enumerate(df_chunks):\n",
    "        #print(\"At index:\", index)\n",
    "        y_pred = clean_model.predict(chunk)\n",
    "        rmse = mean_squared_error(y_chunks[index], y_pred)\n",
    "        #print(\"rmse of current chunk: \", rmse)\n",
    "        if(rmse < min_error):\n",
    "            min_error = rmse\n",
    "            least_error_df = chunk\n",
    "            least_error_index = index\n",
    "            #print(\"Min error is now: \", min_error)\n",
    "\n",
    "    \n",
    "    least_error_df = pd.DataFrame(least_error_df.iloc[:,:].values)    \n",
    "    x_new = x_new.append(least_error_df)\n",
    "    y_new = y_new.append(y_chunks[least_error_index])\n",
    "\n",
    "    del df_chunks[least_error_index]\n",
    "    del y_chunks[least_error_index]\n",
    "    \n",
    "    print(x_new.shape, y_new.shape)\n",
    "\n",
    "    X_train, X_test, y_train, y_test = train_test_split(x_new, y_new, test_size=0.3, random_state=0)\n",
    "    regressor = LinearRegression()  \n",
    "    LIR=regressor.fit(X_train, y_train) \n",
    "    y_clean_pred = LIR.predict(x_clean)\n",
    "\n",
    "    from sklearn.metrics import mean_squared_error\n",
    "    rmse = mean_squared_error(y_clean, y_clean_pred)\n",
    "    rmse_array.append(rmse)\n",
    "    print(rmse)\n"
   ]
  },
  {
   "cell_type": "code",
   "execution_count": null,
   "metadata": {},
   "outputs": [],
   "source": [
    "import numpy as np  \n",
    "import matplotlib.pyplot as plt  \n",
    "  \n",
    "# data to be plotted \n",
    "x = [1,2,3,4,5]\n",
    "y = rmse_array\n",
    "  \n",
    "# plotting \n",
    "plt.title(\"RMSE increasing after each iteration\")  \n",
    "plt.xlabel(\"Iteration\")  \n",
    "plt.ylabel(\"RMSE\")  \n",
    "plt.ylim([0.0213, 0.0216])\n",
    "plt.plot(x, y, color =\"red\")  \n",
    "plt.show()"
   ]
  },
  {
   "cell_type": "code",
   "execution_count": null,
   "metadata": {},
   "outputs": [],
   "source": [
    "rmse_poisoned = pickle.load(open('rmse_poison.sav', 'rb'))\n",
    "rmse_defended = rmse_array[-1]\n",
    "\n",
    "x = ['Attacked', 'Defended']\n",
    "y = [rmse_poisoned, rmse_defended]\n",
    "  \n",
    "# plotting \n",
    "plt.title(\"RMSE without defense and with defense\")  \n",
    "plt.xlabel(\"Defense applied or not\")  \n",
    "plt.ylabel(\"RMSE\")  \n",
    "plt.ylim([0.021, 0.0225])\n",
    "plt.bar(x, y)  \n",
    "plt.show()"
   ]
  },
  {
   "cell_type": "code",
   "execution_count": null,
   "metadata": {},
   "outputs": [],
   "source": [
    "print(x_new.shape, y_new.shape)"
   ]
  },
  {
   "cell_type": "code",
   "execution_count": null,
   "metadata": {},
   "outputs": [],
   "source": [
    "print(len(df_chunks), len(y_chunks))"
   ]
  },
  {
   "cell_type": "code",
   "execution_count": null,
   "metadata": {},
   "outputs": [],
   "source": [
    "rmse_clean = pickle.load(open('rmse_clean.sav', 'rb'))"
   ]
  },
  {
   "cell_type": "code",
   "execution_count": null,
   "metadata": {},
   "outputs": [],
   "source": [
    "x = ['Original', 'Attacked', 'Defended']\n",
    "y = [rmse_clean, rmse_poisoned, rmse_defended]\n",
    "  \n",
    "# plotting \n",
    "plt.title(\"RMSE at different stages\")  \n",
    "plt.xlabel(\"Stages\")  \n",
    "plt.ylabel(\"RMSE\")  \n",
    "plt.ylim([0.021, 0.0225])\n",
    "plt.bar(x, y)  \n",
    "plt.show()"
   ]
  },
  {
   "cell_type": "code",
   "execution_count": null,
   "metadata": {},
   "outputs": [],
   "source": []
  }
 ],
 "metadata": {
  "kernelspec": {
   "display_name": "Python 3",
   "language": "python",
   "name": "python3"
  },
  "language_info": {
   "codemirror_mode": {
    "name": "ipython",
    "version": 3
   },
   "file_extension": ".py",
   "mimetype": "text/x-python",
   "name": "python",
   "nbconvert_exporter": "python",
   "pygments_lexer": "ipython3",
   "version": "3.8.3"
  }
 },
 "nbformat": 4,
 "nbformat_minor": 4
}
