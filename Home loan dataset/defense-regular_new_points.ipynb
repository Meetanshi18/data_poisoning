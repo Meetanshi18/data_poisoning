{
 "cells": [
  {
   "cell_type": "code",
   "execution_count": 1,
   "metadata": {},
   "outputs": [],
   "source": [
    "import pickle"
   ]
  },
  {
   "cell_type": "code",
   "execution_count": 2,
   "metadata": {},
   "outputs": [],
   "source": [
    "user_points_x = pickle.load(open('user_points_x.sav', 'rb'))\n",
    "user_points_y = pickle.load(open('user_points_y.sav', 'rb'))"
   ]
  },
  {
   "cell_type": "code",
   "execution_count": 3,
   "metadata": {},
   "outputs": [
    {
     "data": {
      "text/html": [
       "<div>\n",
       "<style scoped>\n",
       "    .dataframe tbody tr th:only-of-type {\n",
       "        vertical-align: middle;\n",
       "    }\n",
       "\n",
       "    .dataframe tbody tr th {\n",
       "        vertical-align: top;\n",
       "    }\n",
       "\n",
       "    .dataframe thead th {\n",
       "        text-align: right;\n",
       "    }\n",
       "</style>\n",
       "<table border=\"1\" class=\"dataframe\">\n",
       "  <thead>\n",
       "    <tr style=\"text-align: right;\">\n",
       "      <th></th>\n",
       "      <th>loan_amnt</th>\n",
       "      <th>annual_inc</th>\n",
       "      <th>dti</th>\n",
       "      <th>delinq_2yrs</th>\n",
       "      <th>inq_last_6mths</th>\n",
       "      <th>pub_rec</th>\n",
       "      <th>open_acc</th>\n",
       "      <th>pub_rec_1</th>\n",
       "      <th>revol_bal</th>\n",
       "      <th>revol_util</th>\n",
       "      <th>...</th>\n",
       "      <th>emp_length</th>\n",
       "      <th>earliest_cr_line</th>\n",
       "      <th>mths_since_last_delinq</th>\n",
       "      <th>mths_since_last_record</th>\n",
       "      <th>mths_since_last_major_derog</th>\n",
       "      <th>term_36months</th>\n",
       "      <th>addr_state</th>\n",
       "      <th>purpose</th>\n",
       "      <th>home_ownership</th>\n",
       "      <th>verification_status</th>\n",
       "    </tr>\n",
       "  </thead>\n",
       "  <tbody>\n",
       "    <tr>\n",
       "      <th>0</th>\n",
       "      <td>0.287069</td>\n",
       "      <td>0.033641</td>\n",
       "      <td>0.383540</td>\n",
       "      <td>0.0</td>\n",
       "      <td>0.043234</td>\n",
       "      <td>0.000</td>\n",
       "      <td>0.023657</td>\n",
       "      <td>1</td>\n",
       "      <td>0.009048</td>\n",
       "      <td>0.094634</td>\n",
       "      <td>...</td>\n",
       "      <td>0.605166</td>\n",
       "      <td>0.951209</td>\n",
       "      <td>1.0</td>\n",
       "      <td>1.000000</td>\n",
       "      <td>1.0</td>\n",
       "      <td>1</td>\n",
       "      <td>11</td>\n",
       "      <td>1</td>\n",
       "      <td>4</td>\n",
       "      <td>1</td>\n",
       "    </tr>\n",
       "    <tr>\n",
       "      <th>1</th>\n",
       "      <td>0.742271</td>\n",
       "      <td>0.038724</td>\n",
       "      <td>0.999505</td>\n",
       "      <td>0.0</td>\n",
       "      <td>0.171403</td>\n",
       "      <td>0.000</td>\n",
       "      <td>0.121179</td>\n",
       "      <td>0</td>\n",
       "      <td>0.007982</td>\n",
       "      <td>0.148372</td>\n",
       "      <td>...</td>\n",
       "      <td>1.000000</td>\n",
       "      <td>1.143815</td>\n",
       "      <td>1.0</td>\n",
       "      <td>1.000000</td>\n",
       "      <td>1.0</td>\n",
       "      <td>1</td>\n",
       "      <td>2</td>\n",
       "      <td>5</td>\n",
       "      <td>4</td>\n",
       "      <td>1</td>\n",
       "    </tr>\n",
       "    <tr>\n",
       "      <th>2</th>\n",
       "      <td>0.994939</td>\n",
       "      <td>0.082517</td>\n",
       "      <td>0.581966</td>\n",
       "      <td>0.0</td>\n",
       "      <td>0.049314</td>\n",
       "      <td>0.002</td>\n",
       "      <td>0.057483</td>\n",
       "      <td>0</td>\n",
       "      <td>0.008102</td>\n",
       "      <td>0.105255</td>\n",
       "      <td>...</td>\n",
       "      <td>1.000000</td>\n",
       "      <td>0.850459</td>\n",
       "      <td>1.0</td>\n",
       "      <td>0.169131</td>\n",
       "      <td>1.0</td>\n",
       "      <td>1</td>\n",
       "      <td>15</td>\n",
       "      <td>5</td>\n",
       "      <td>4</td>\n",
       "      <td>1</td>\n",
       "    </tr>\n",
       "    <tr>\n",
       "      <th>3</th>\n",
       "      <td>0.246914</td>\n",
       "      <td>0.084085</td>\n",
       "      <td>0.585185</td>\n",
       "      <td>0.0</td>\n",
       "      <td>0.000000</td>\n",
       "      <td>0.002</td>\n",
       "      <td>0.004067</td>\n",
       "      <td>0</td>\n",
       "      <td>0.004163</td>\n",
       "      <td>0.196654</td>\n",
       "      <td>...</td>\n",
       "      <td>1.000000</td>\n",
       "      <td>0.623257</td>\n",
       "      <td>1.0</td>\n",
       "      <td>1.000000</td>\n",
       "      <td>1.0</td>\n",
       "      <td>1</td>\n",
       "      <td>32</td>\n",
       "      <td>1</td>\n",
       "      <td>4</td>\n",
       "      <td>0</td>\n",
       "    </tr>\n",
       "    <tr>\n",
       "      <th>4</th>\n",
       "      <td>0.025499</td>\n",
       "      <td>0.010297</td>\n",
       "      <td>0.722466</td>\n",
       "      <td>0.0</td>\n",
       "      <td>0.000000</td>\n",
       "      <td>0.000</td>\n",
       "      <td>0.184750</td>\n",
       "      <td>1</td>\n",
       "      <td>0.004752</td>\n",
       "      <td>0.191838</td>\n",
       "      <td>...</td>\n",
       "      <td>1.000000</td>\n",
       "      <td>0.882238</td>\n",
       "      <td>1.0</td>\n",
       "      <td>1.000000</td>\n",
       "      <td>1.0</td>\n",
       "      <td>0</td>\n",
       "      <td>10</td>\n",
       "      <td>1</td>\n",
       "      <td>4</td>\n",
       "      <td>1</td>\n",
       "    </tr>\n",
       "  </tbody>\n",
       "</table>\n",
       "<p>5 rows × 23 columns</p>\n",
       "</div>"
      ],
      "text/plain": [
       "   loan_amnt  annual_inc       dti  delinq_2yrs  inq_last_6mths  pub_rec  \\\n",
       "0   0.287069    0.033641  0.383540          0.0        0.043234    0.000   \n",
       "1   0.742271    0.038724  0.999505          0.0        0.171403    0.000   \n",
       "2   0.994939    0.082517  0.581966          0.0        0.049314    0.002   \n",
       "3   0.246914    0.084085  0.585185          0.0        0.000000    0.002   \n",
       "4   0.025499    0.010297  0.722466          0.0        0.000000    0.000   \n",
       "\n",
       "   open_acc  pub_rec_1  revol_bal  revol_util  ...  emp_length  \\\n",
       "0  0.023657          1   0.009048    0.094634  ...    0.605166   \n",
       "1  0.121179          0   0.007982    0.148372  ...    1.000000   \n",
       "2  0.057483          0   0.008102    0.105255  ...    1.000000   \n",
       "3  0.004067          0   0.004163    0.196654  ...    1.000000   \n",
       "4  0.184750          1   0.004752    0.191838  ...    1.000000   \n",
       "\n",
       "   earliest_cr_line  mths_since_last_delinq  mths_since_last_record  \\\n",
       "0          0.951209                     1.0                1.000000   \n",
       "1          1.143815                     1.0                1.000000   \n",
       "2          0.850459                     1.0                0.169131   \n",
       "3          0.623257                     1.0                1.000000   \n",
       "4          0.882238                     1.0                1.000000   \n",
       "\n",
       "   mths_since_last_major_derog  term_36months  addr_state  purpose  \\\n",
       "0                          1.0              1          11        1   \n",
       "1                          1.0              1           2        5   \n",
       "2                          1.0              1          15        5   \n",
       "3                          1.0              1          32        1   \n",
       "4                          1.0              0          10        1   \n",
       "\n",
       "   home_ownership  verification_status  \n",
       "0               4                    1  \n",
       "1               4                    1  \n",
       "2               4                    1  \n",
       "3               4                    0  \n",
       "4               4                    1  \n",
       "\n",
       "[5 rows x 23 columns]"
      ]
     },
     "execution_count": 3,
     "metadata": {},
     "output_type": "execute_result"
    }
   ],
   "source": [
    "user_points_x.head()"
   ]
  },
  {
   "cell_type": "code",
   "execution_count": 4,
   "metadata": {},
   "outputs": [
    {
     "data": {
      "text/html": [
       "<div>\n",
       "<style scoped>\n",
       "    .dataframe tbody tr th:only-of-type {\n",
       "        vertical-align: middle;\n",
       "    }\n",
       "\n",
       "    .dataframe tbody tr th {\n",
       "        vertical-align: top;\n",
       "    }\n",
       "\n",
       "    .dataframe thead th {\n",
       "        text-align: right;\n",
       "    }\n",
       "</style>\n",
       "<table border=\"1\" class=\"dataframe\">\n",
       "  <thead>\n",
       "    <tr style=\"text-align: right;\">\n",
       "      <th></th>\n",
       "      <th>0</th>\n",
       "    </tr>\n",
       "  </thead>\n",
       "  <tbody>\n",
       "    <tr>\n",
       "      <th>0</th>\n",
       "      <td>0.220183</td>\n",
       "    </tr>\n",
       "    <tr>\n",
       "      <th>1</th>\n",
       "      <td>0.575251</td>\n",
       "    </tr>\n",
       "    <tr>\n",
       "      <th>2</th>\n",
       "      <td>0.213102</td>\n",
       "    </tr>\n",
       "    <tr>\n",
       "      <th>3</th>\n",
       "      <td>0.043421</td>\n",
       "    </tr>\n",
       "    <tr>\n",
       "      <th>4</th>\n",
       "      <td>0.520398</td>\n",
       "    </tr>\n",
       "  </tbody>\n",
       "</table>\n",
       "</div>"
      ],
      "text/plain": [
       "          0\n",
       "0  0.220183\n",
       "1  0.575251\n",
       "2  0.213102\n",
       "3  0.043421\n",
       "4  0.520398"
      ]
     },
     "execution_count": 4,
     "metadata": {},
     "output_type": "execute_result"
    }
   ],
   "source": [
    "user_points_y.head()"
   ]
  },
  {
   "cell_type": "code",
   "execution_count": 5,
   "metadata": {},
   "outputs": [
    {
     "name": "stdout",
     "output_type": "stream",
     "text": [
      "(50000, 23) (50000, 1)\n"
     ]
    }
   ],
   "source": [
    "print(user_points_x.shape, user_points_y.shape)"
   ]
  },
  {
   "cell_type": "code",
   "execution_count": 6,
   "metadata": {},
   "outputs": [],
   "source": [
    "x_clean = pickle.load(open('X_preprocessed.sav', 'rb'))\n",
    "y_clean = pickle.load(open('Y_preprocessed.sav', 'rb'))"
   ]
  },
  {
   "cell_type": "code",
   "execution_count": 7,
   "metadata": {},
   "outputs": [
    {
     "name": "stdout",
     "output_type": "stream",
     "text": [
      "(168048, 23) (168048, 1)\n"
     ]
    }
   ],
   "source": [
    "print(x_clean.shape, y_clean.shape)"
   ]
  },
  {
   "cell_type": "code",
   "execution_count": 8,
   "metadata": {},
   "outputs": [],
   "source": [
    "import pandas as pd"
   ]
  },
  {
   "cell_type": "code",
   "execution_count": 9,
   "metadata": {},
   "outputs": [],
   "source": [
    "df_chunks = []"
   ]
  },
  {
   "cell_type": "code",
   "execution_count": 10,
   "metadata": {},
   "outputs": [],
   "source": [
    "i = 0\n",
    "for _ in range(50):\n",
    "    if i+500 < len(user_points_x):\n",
    "        df_chunks.append(user_points_x.iloc[i:i + 500, :])\n",
    "    else:\n",
    "        df_chunks.append(user_points_x.iloc[i:, :])\n",
    "    i = i + 500"
   ]
  },
  {
   "cell_type": "code",
   "execution_count": 11,
   "metadata": {},
   "outputs": [
    {
     "name": "stdout",
     "output_type": "stream",
     "text": [
      "50\n"
     ]
    }
   ],
   "source": [
    "count = 0\n",
    "for chunk in df_chunks:\n",
    "    count += 1\n",
    "    #print(chunk)\n",
    "print(count)"
   ]
  },
  {
   "cell_type": "code",
   "execution_count": 12,
   "metadata": {},
   "outputs": [],
   "source": [
    "y_chunks = []\n",
    "i = 0\n",
    "for _ in range(50):\n",
    "    if i+500 < len(user_points_y):\n",
    "        y_chunks.append(user_points_y.iloc[i:i + 500, :])\n",
    "    else:\n",
    "        y_chunks.append(user_points_y.iloc[i:, :])\n",
    "    i = i + 500"
   ]
  },
  {
   "cell_type": "code",
   "execution_count": 13,
   "metadata": {},
   "outputs": [
    {
     "name": "stdout",
     "output_type": "stream",
     "text": [
      "50\n"
     ]
    }
   ],
   "source": [
    "count = 0\n",
    "for chunk in y_chunks:\n",
    "    count += 1\n",
    "    #print(chunk)\n",
    "print(count)"
   ]
  },
  {
   "cell_type": "code",
   "execution_count": 14,
   "metadata": {},
   "outputs": [],
   "source": [
    "filename = 'original_model.sav'\n",
    "clean_model = pickle.load(open(filename, 'rb'))"
   ]
  },
  {
   "cell_type": "code",
   "execution_count": 15,
   "metadata": {},
   "outputs": [],
   "source": [
    "x_clean = pickle.load(open('X_preprocessed.sav', 'rb'))\n",
    "y_clean = pickle.load(open('Y_preprocessed.sav', 'rb'))"
   ]
  },
  {
   "cell_type": "code",
   "execution_count": 16,
   "metadata": {},
   "outputs": [],
   "source": [
    "from sklearn.metrics import mean_squared_error"
   ]
  },
  {
   "cell_type": "code",
   "execution_count": 17,
   "metadata": {},
   "outputs": [],
   "source": [
    "from sklearn.linear_model import LinearRegression\n",
    "from sklearn.model_selection import train_test_split"
   ]
  },
  {
   "cell_type": "code",
   "execution_count": 18,
   "metadata": {},
   "outputs": [
    {
     "name": "stdout",
     "output_type": "stream",
     "text": [
      "(168048, 23) (168048, 1)\n"
     ]
    }
   ],
   "source": [
    "print(x_clean.shape, y_clean.shape)"
   ]
  },
  {
   "cell_type": "code",
   "execution_count": 19,
   "metadata": {},
   "outputs": [],
   "source": [
    "x_new = x_clean\n",
    "y_new = y_clean"
   ]
  },
  {
   "cell_type": "code",
   "execution_count": 20,
   "metadata": {},
   "outputs": [],
   "source": [
    "rmse_array = []"
   ]
  },
  {
   "cell_type": "code",
   "execution_count": 21,
   "metadata": {},
   "outputs": [
    {
     "name": "stdout",
     "output_type": "stream",
     "text": [
      "(168548, 23) (168548, 1)\n",
      "0.02130226152850645\n",
      "(169048, 23) (169048, 1)\n",
      "0.021299080465926393\n",
      "(169548, 23) (169548, 1)\n",
      "0.021299636977434873\n",
      "(170048, 23) (170048, 1)\n",
      "0.021297619245015616\n",
      "(170548, 23) (170548, 1)\n",
      "0.021301094972201957\n",
      "(171048, 23) (171048, 1)\n",
      "0.021300634031876948\n",
      "(171548, 23) (171548, 1)\n",
      "0.021301154946566418\n",
      "(172048, 23) (172048, 1)\n",
      "0.02130057182010597\n",
      "(172548, 23) (172548, 1)\n",
      "0.021299071146382777\n",
      "(173048, 23) (173048, 1)\n",
      "0.02129969710944175\n"
     ]
    }
   ],
   "source": [
    "for _ in range(10):\n",
    "\n",
    "    least_error_df = pd.DataFrame()\n",
    "    min_error = 10000000\n",
    "    least_error_index = 10000000\n",
    "    \n",
    "    for index, chunk in enumerate(df_chunks):\n",
    "        #print(\"At index:\", index)\n",
    "        y_pred = clean_model.predict(chunk)\n",
    "        rmse = mean_squared_error(y_chunks[index], y_pred)\n",
    "        #print(\"rmse of current chunk: \", rmse)\n",
    "        if(rmse < min_error):\n",
    "            min_error = rmse\n",
    "            least_error_df = chunk\n",
    "            least_error_index = index\n",
    "            #print(\"Min error is now: \", min_error)\n",
    "\n",
    "    \n",
    "    least_error_df = pd.DataFrame(least_error_df.iloc[:,:].values)    \n",
    "    x_new = x_new.append(least_error_df)\n",
    "    y_new = y_new.append(y_chunks[least_error_index])\n",
    "\n",
    "    del df_chunks[least_error_index]\n",
    "    del y_chunks[least_error_index]\n",
    "    \n",
    "    print(x_new.shape, y_new.shape)\n",
    "\n",
    "    X_train, X_test, y_train, y_test = train_test_split(x_new, y_new, test_size=0.3, random_state=0)\n",
    "    regressor = LinearRegression()  \n",
    "    LIR=regressor.fit(X_train, y_train) \n",
    "    y_clean_pred = LIR.predict(x_clean)\n",
    "\n",
    "    from sklearn.metrics import mean_squared_error\n",
    "    rmse = mean_squared_error(y_clean, y_clean_pred)\n",
    "    rmse_array.append(rmse)\n",
    "    print(rmse)\n"
   ]
  },
  {
   "cell_type": "code",
   "execution_count": 22,
   "metadata": {},
   "outputs": [
    {
     "data": {
      "image/png": "[encoded data removed]",
      "text/plain": [
       "<Figure size 432x288 with 1 Axes>"
      ]
     },
     "metadata": {
      "needs_background": "light"
     },
     "output_type": "display_data"
    }
   ],
   "source": [
    "import numpy as np  \n",
    "import matplotlib.pyplot as plt  \n",
    "  \n",
    "# data to be plotted \n",
    "x = [1,2,3,4,5,6,7,8,9,10]\n",
    "y = rmse_array\n",
    "  \n",
    "# plotting \n",
    "plt.title(\"RMSE after each iteration\")  \n",
    "plt.xlabel(\"Iteration\")  \n",
    "plt.ylabel(\"RMSE\")  \n",
    "plt.ylim([0.021275, 0.02135])\n",
    "plt.plot(x, y, color =\"red\")  \n",
    "plt.show()"
   ]
  },
  {
   "cell_type": "code",
   "execution_count": 23,
   "metadata": {},
   "outputs": [
    {
     "name": "stdout",
     "output_type": "stream",
     "text": [
      "(173048, 23) (173048, 1)\n"
     ]
    }
   ],
   "source": [
    "print(x_new.shape, y_new.shape)"
   ]
  },
  {
   "cell_type": "code",
   "execution_count": 24,
   "metadata": {},
   "outputs": [
    {
     "name": "stdout",
     "output_type": "stream",
     "text": [
      "40 40\n"
     ]
    }
   ],
   "source": [
    "print(len(df_chunks), len(y_chunks))"
   ]
  },
  {
   "cell_type": "code",
   "execution_count": 25,
   "metadata": {},
   "outputs": [],
   "source": [
    "rmse_clean = pickle.load(open('rmse_clean.sav', 'rb'))"
   ]
  },
  {
   "cell_type": "code",
   "execution_count": 26,
   "metadata": {},
   "outputs": [
    {
     "data": {
      "image/png": "[encoded data removed]",
      "text/plain": [
       "<Figure size 432x288 with 1 Axes>"
      ]
     },
     "metadata": {
      "needs_background": "light"
     },
     "output_type": "display_data"
    }
   ],
   "source": [
    "x = ['Original', 'Retrained with defense']\n",
    "y = [rmse_clean, rmse_array[-1]]\n",
    "  \n",
    "# plotting \n",
    "plt.title(\"RMSE before and after retraining\")  \n",
    "plt.xlabel(\"Stages\")  \n",
    "plt.ylabel(\"RMSE\")  \n",
    "plt.ylim([0.021, 0.0225])\n",
    "plt.bar(x, y)  \n",
    "plt.show()"
   ]
  },
  {
   "cell_type": "code",
   "execution_count": null,
   "metadata": {},
   "outputs": [],
   "source": []
  }
 ],
 "metadata": {
  "kernelspec": {
   "display_name": "Python 3",
   "language": "python",
   "name": "python3"
  },
  "language_info": {
   "codemirror_mode": {
    "name": "ipython",
    "version": 3
   },
   "file_extension": ".py",
   "mimetype": "text/x-python",
   "name": "python",
   "nbconvert_exporter": "python",
   "pygments_lexer": "ipython3",
   "version": "3.8.3"
  }
 },
 "nbformat": 4,
 "nbformat_minor": 4
}
