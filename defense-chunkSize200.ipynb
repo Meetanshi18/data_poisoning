{
 "cells": [
  {
   "cell_type": "code",
   "execution_count": 1,
   "metadata": {},
   "outputs": [],
   "source": [
    "import pickle"
   ]
  },
  {
   "cell_type": "code",
   "execution_count": 2,
   "metadata": {},
   "outputs": [],
   "source": [
    "x_poison = pickle.load(open('x_poison.sav', 'rb'))\n",
    "y_poison = pickle.load(open('y_poison.sav', 'rb'))"
   ]
  },
  {
   "cell_type": "code",
   "execution_count": 3,
   "metadata": {},
   "outputs": [
    {
     "data": {
      "text/html": [
       "<div>\n",
       "<style scoped>\n",
       "    .dataframe tbody tr th:only-of-type {\n",
       "        vertical-align: middle;\n",
       "    }\n",
       "\n",
       "    .dataframe tbody tr th {\n",
       "        vertical-align: top;\n",
       "    }\n",
       "\n",
       "    .dataframe thead th {\n",
       "        text-align: right;\n",
       "    }\n",
       "</style>\n",
       "<table border=\"1\" class=\"dataframe\">\n",
       "  <thead>\n",
       "    <tr style=\"text-align: right;\">\n",
       "      <th></th>\n",
       "      <th>loan_amnt</th>\n",
       "      <th>annual_inc</th>\n",
       "      <th>dti</th>\n",
       "      <th>delinq_2yrs</th>\n",
       "      <th>inq_last_6mths</th>\n",
       "      <th>pub_rec</th>\n",
       "      <th>open_acc</th>\n",
       "      <th>pub_rec_1</th>\n",
       "      <th>revol_bal</th>\n",
       "      <th>revol_util</th>\n",
       "      <th>...</th>\n",
       "      <th>emp_length</th>\n",
       "      <th>earliest_cr_line</th>\n",
       "      <th>mths_since_last_delinq</th>\n",
       "      <th>mths_since_last_record</th>\n",
       "      <th>mths_since_last_major_derog</th>\n",
       "      <th>term_36months</th>\n",
       "      <th>addr_state</th>\n",
       "      <th>purpose</th>\n",
       "      <th>home_ownership</th>\n",
       "      <th>verification_status</th>\n",
       "    </tr>\n",
       "  </thead>\n",
       "  <tbody>\n",
       "    <tr>\n",
       "      <th>0</th>\n",
       "      <td>0.617527</td>\n",
       "      <td>0.076650</td>\n",
       "      <td>0.319744</td>\n",
       "      <td>0.00</td>\n",
       "      <td>0.183657</td>\n",
       "      <td>0.000</td>\n",
       "      <td>0.053429</td>\n",
       "      <td>0.0</td>\n",
       "      <td>0.007540</td>\n",
       "      <td>0.023138</td>\n",
       "      <td>...</td>\n",
       "      <td>0.929040</td>\n",
       "      <td>1.096762</td>\n",
       "      <td>0.391101</td>\n",
       "      <td>1.0</td>\n",
       "      <td>1.000000</td>\n",
       "      <td>0.0</td>\n",
       "      <td>11.0</td>\n",
       "      <td>13.0</td>\n",
       "      <td>4.0</td>\n",
       "      <td>1.0</td>\n",
       "    </tr>\n",
       "    <tr>\n",
       "      <th>6</th>\n",
       "      <td>0.840441</td>\n",
       "      <td>0.083221</td>\n",
       "      <td>0.934623</td>\n",
       "      <td>0.05</td>\n",
       "      <td>0.000000</td>\n",
       "      <td>0.002</td>\n",
       "      <td>0.197972</td>\n",
       "      <td>0.0</td>\n",
       "      <td>0.006988</td>\n",
       "      <td>0.011173</td>\n",
       "      <td>...</td>\n",
       "      <td>0.992583</td>\n",
       "      <td>1.065370</td>\n",
       "      <td>0.304383</td>\n",
       "      <td>1.0</td>\n",
       "      <td>1.000000</td>\n",
       "      <td>1.0</td>\n",
       "      <td>38.0</td>\n",
       "      <td>1.0</td>\n",
       "      <td>4.0</td>\n",
       "      <td>1.0</td>\n",
       "    </tr>\n",
       "    <tr>\n",
       "      <th>7</th>\n",
       "      <td>0.601370</td>\n",
       "      <td>0.076575</td>\n",
       "      <td>0.918743</td>\n",
       "      <td>0.00</td>\n",
       "      <td>0.000000</td>\n",
       "      <td>0.000</td>\n",
       "      <td>0.049780</td>\n",
       "      <td>0.0</td>\n",
       "      <td>0.005827</td>\n",
       "      <td>0.061177</td>\n",
       "      <td>...</td>\n",
       "      <td>0.323375</td>\n",
       "      <td>0.354150</td>\n",
       "      <td>1.000000</td>\n",
       "      <td>1.0</td>\n",
       "      <td>1.000000</td>\n",
       "      <td>0.0</td>\n",
       "      <td>35.0</td>\n",
       "      <td>5.0</td>\n",
       "      <td>4.0</td>\n",
       "      <td>1.0</td>\n",
       "    </tr>\n",
       "    <tr>\n",
       "      <th>8</th>\n",
       "      <td>0.042075</td>\n",
       "      <td>0.038691</td>\n",
       "      <td>0.262630</td>\n",
       "      <td>0.00</td>\n",
       "      <td>0.000000</td>\n",
       "      <td>0.000</td>\n",
       "      <td>0.025325</td>\n",
       "      <td>0.0</td>\n",
       "      <td>0.003398</td>\n",
       "      <td>0.093639</td>\n",
       "      <td>...</td>\n",
       "      <td>1.000000</td>\n",
       "      <td>0.766989</td>\n",
       "      <td>0.182065</td>\n",
       "      <td>1.0</td>\n",
       "      <td>1.000000</td>\n",
       "      <td>1.0</td>\n",
       "      <td>6.0</td>\n",
       "      <td>1.0</td>\n",
       "      <td>2.0</td>\n",
       "      <td>1.0</td>\n",
       "    </tr>\n",
       "    <tr>\n",
       "      <th>20</th>\n",
       "      <td>0.532681</td>\n",
       "      <td>0.002827</td>\n",
       "      <td>0.261607</td>\n",
       "      <td>0.00</td>\n",
       "      <td>0.143597</td>\n",
       "      <td>0.000</td>\n",
       "      <td>0.193205</td>\n",
       "      <td>0.0</td>\n",
       "      <td>0.000176</td>\n",
       "      <td>0.190190</td>\n",
       "      <td>...</td>\n",
       "      <td>1.000000</td>\n",
       "      <td>0.713406</td>\n",
       "      <td>0.021816</td>\n",
       "      <td>1.0</td>\n",
       "      <td>0.061118</td>\n",
       "      <td>1.0</td>\n",
       "      <td>12.0</td>\n",
       "      <td>13.0</td>\n",
       "      <td>2.0</td>\n",
       "      <td>1.0</td>\n",
       "    </tr>\n",
       "  </tbody>\n",
       "</table>\n",
       "<p>5 rows × 23 columns</p>\n",
       "</div>"
      ],
      "text/plain": [
       "    loan_amnt  annual_inc       dti  delinq_2yrs  inq_last_6mths  pub_rec  \\\n",
       "0    0.617527    0.076650  0.319744         0.00        0.183657    0.000   \n",
       "6    0.840441    0.083221  0.934623         0.05        0.000000    0.002   \n",
       "7    0.601370    0.076575  0.918743         0.00        0.000000    0.000   \n",
       "8    0.042075    0.038691  0.262630         0.00        0.000000    0.000   \n",
       "20   0.532681    0.002827  0.261607         0.00        0.143597    0.000   \n",
       "\n",
       "    open_acc  pub_rec_1  revol_bal  revol_util  ...  emp_length  \\\n",
       "0   0.053429        0.0   0.007540    0.023138  ...    0.929040   \n",
       "6   0.197972        0.0   0.006988    0.011173  ...    0.992583   \n",
       "7   0.049780        0.0   0.005827    0.061177  ...    0.323375   \n",
       "8   0.025325        0.0   0.003398    0.093639  ...    1.000000   \n",
       "20  0.193205        0.0   0.000176    0.190190  ...    1.000000   \n",
       "\n",
       "    earliest_cr_line  mths_since_last_delinq  mths_since_last_record  \\\n",
       "0           1.096762                0.391101                     1.0   \n",
       "6           1.065370                0.304383                     1.0   \n",
       "7           0.354150                1.000000                     1.0   \n",
       "8           0.766989                0.182065                     1.0   \n",
       "20          0.713406                0.021816                     1.0   \n",
       "\n",
       "    mths_since_last_major_derog  term_36months  addr_state  purpose  \\\n",
       "0                      1.000000            0.0        11.0     13.0   \n",
       "6                      1.000000            1.0        38.0      1.0   \n",
       "7                      1.000000            0.0        35.0      5.0   \n",
       "8                      1.000000            1.0         6.0      1.0   \n",
       "20                     0.061118            1.0        12.0     13.0   \n",
       "\n",
       "    home_ownership  verification_status  \n",
       "0              4.0                  1.0  \n",
       "6              4.0                  1.0  \n",
       "7              4.0                  1.0  \n",
       "8              2.0                  1.0  \n",
       "20             2.0                  1.0  \n",
       "\n",
       "[5 rows x 23 columns]"
      ]
     },
     "execution_count": 3,
     "metadata": {},
     "output_type": "execute_result"
    }
   ],
   "source": [
    "x_poison.head()"
   ]
  },
  {
   "cell_type": "code",
   "execution_count": 4,
   "metadata": {},
   "outputs": [
    {
     "data": {
      "text/html": [
       "<div>\n",
       "<style scoped>\n",
       "    .dataframe tbody tr th:only-of-type {\n",
       "        vertical-align: middle;\n",
       "    }\n",
       "\n",
       "    .dataframe tbody tr th {\n",
       "        vertical-align: top;\n",
       "    }\n",
       "\n",
       "    .dataframe thead th {\n",
       "        text-align: right;\n",
       "    }\n",
       "</style>\n",
       "<table border=\"1\" class=\"dataframe\">\n",
       "  <thead>\n",
       "    <tr style=\"text-align: right;\">\n",
       "      <th></th>\n",
       "      <th>0</th>\n",
       "    </tr>\n",
       "  </thead>\n",
       "  <tbody>\n",
       "    <tr>\n",
       "      <th>0</th>\n",
       "      <td>0.7</td>\n",
       "    </tr>\n",
       "    <tr>\n",
       "      <th>1</th>\n",
       "      <td>-0.2</td>\n",
       "    </tr>\n",
       "    <tr>\n",
       "      <th>2</th>\n",
       "      <td>-0.2</td>\n",
       "    </tr>\n",
       "    <tr>\n",
       "      <th>3</th>\n",
       "      <td>-0.2</td>\n",
       "    </tr>\n",
       "    <tr>\n",
       "      <th>4</th>\n",
       "      <td>0.7</td>\n",
       "    </tr>\n",
       "  </tbody>\n",
       "</table>\n",
       "</div>"
      ],
      "text/plain": [
       "     0\n",
       "0  0.7\n",
       "1 -0.2\n",
       "2 -0.2\n",
       "3 -0.2\n",
       "4  0.7"
      ]
     },
     "execution_count": 4,
     "metadata": {},
     "output_type": "execute_result"
    }
   ],
   "source": [
    "y_poison.head()"
   ]
  },
  {
   "cell_type": "code",
   "execution_count": 5,
   "metadata": {},
   "outputs": [
    {
     "name": "stdout",
     "output_type": "stream",
     "text": [
      "(20500, 23) (20500, 1)\n"
     ]
    }
   ],
   "source": [
    "print(x_poison.shape, y_poison.shape)"
   ]
  },
  {
   "cell_type": "code",
   "execution_count": 6,
   "metadata": {},
   "outputs": [],
   "source": [
    "x_clean = pickle.load(open('X_preprocessed.sav', 'rb'))\n",
    "y_clean = pickle.load(open('Y_preprocessed.sav', 'rb'))"
   ]
  },
  {
   "cell_type": "code",
   "execution_count": 7,
   "metadata": {},
   "outputs": [
    {
     "name": "stdout",
     "output_type": "stream",
     "text": [
      "(168048, 23) (168048, 1)\n"
     ]
    }
   ],
   "source": [
    "print(x_clean.shape, y_clean.shape)"
   ]
  },
  {
   "cell_type": "code",
   "execution_count": 8,
   "metadata": {},
   "outputs": [],
   "source": [
    "import pandas as pd"
   ]
  },
  {
   "cell_type": "code",
   "execution_count": 9,
   "metadata": {},
   "outputs": [],
   "source": [
    "df_chunks = []"
   ]
  },
  {
   "cell_type": "code",
   "execution_count": 10,
   "metadata": {},
   "outputs": [],
   "source": [
    "i = 0\n",
    "for _ in range(80):\n",
    "    if i+200 < len(x_poison):\n",
    "        df_chunks.append(x_poison.iloc[i:i + 200, :])\n",
    "    else:\n",
    "        df_chunks.append(x_poison.iloc[i:, :])\n",
    "    i = i + 200"
   ]
  },
  {
   "cell_type": "code",
   "execution_count": 11,
   "metadata": {},
   "outputs": [
    {
     "name": "stdout",
     "output_type": "stream",
     "text": [
      "80\n"
     ]
    }
   ],
   "source": [
    "count = 0\n",
    "for chunk in df_chunks:\n",
    "    count += 1\n",
    "    #print(chunk)\n",
    "print(count)"
   ]
  },
  {
   "cell_type": "code",
   "execution_count": 12,
   "metadata": {},
   "outputs": [],
   "source": [
    "y_chunks = []\n",
    "i = 0\n",
    "for _ in range(80):\n",
    "    if i+200 < len(y_poison):\n",
    "        y_chunks.append(y_poison.iloc[i:i + 200, :])\n",
    "    else:\n",
    "        y_chunks.append(y_poison.iloc[i:, :])\n",
    "    i = i + 200"
   ]
  },
  {
   "cell_type": "code",
   "execution_count": 13,
   "metadata": {},
   "outputs": [
    {
     "name": "stdout",
     "output_type": "stream",
     "text": [
      "80\n"
     ]
    }
   ],
   "source": [
    "count = 0\n",
    "for chunk in y_chunks:\n",
    "    count += 1\n",
    "    #print(chunk)\n",
    "print(count)"
   ]
  },
  {
   "cell_type": "code",
   "execution_count": 14,
   "metadata": {},
   "outputs": [],
   "source": [
    "filename = 'original_model.sav'\n",
    "clean_model = pickle.load(open(filename, 'rb'))"
   ]
  },
  {
   "cell_type": "code",
   "execution_count": 15,
   "metadata": {},
   "outputs": [],
   "source": [
    "x_clean = pickle.load(open('X_preprocessed.sav', 'rb'))\n",
    "y_clean = pickle.load(open('Y_preprocessed.sav', 'rb'))"
   ]
  },
  {
   "cell_type": "code",
   "execution_count": 16,
   "metadata": {},
   "outputs": [],
   "source": [
    "from sklearn.metrics import mean_squared_error"
   ]
  },
  {
   "cell_type": "code",
   "execution_count": 17,
   "metadata": {},
   "outputs": [],
   "source": [
    "from sklearn.linear_model import LinearRegression\n",
    "from sklearn.model_selection import train_test_split"
   ]
  },
  {
   "cell_type": "code",
   "execution_count": 18,
   "metadata": {},
   "outputs": [
    {
     "name": "stdout",
     "output_type": "stream",
     "text": [
      "(168048, 23) (168048, 1)\n"
     ]
    }
   ],
   "source": [
    "print(x_clean.shape, y_clean.shape)"
   ]
  },
  {
   "cell_type": "code",
   "execution_count": 19,
   "metadata": {},
   "outputs": [],
   "source": [
    "x_new = x_clean\n",
    "y_new = y_clean"
   ]
  },
  {
   "cell_type": "code",
   "execution_count": 20,
   "metadata": {},
   "outputs": [],
   "source": [
    "rmse_array = []"
   ]
  },
  {
   "cell_type": "code",
   "execution_count": 21,
   "metadata": {},
   "outputs": [
    {
     "name": "stdout",
     "output_type": "stream",
     "text": [
      "(168248, 23) (168248, 1)\n",
      "0.02129953939708445\n",
      "(168448, 23) (168448, 1)\n",
      "0.021329619465029856\n",
      "(168648, 23) (168648, 1)\n",
      "0.021325791502491045\n",
      "(168848, 23) (168848, 1)\n",
      "0.021363350528474385\n",
      "(169048, 23) (169048, 1)\n",
      "0.02133689858428416\n",
      "(169248, 23) (169248, 1)\n",
      "0.021382845557228556\n",
      "(169448, 23) (169448, 1)\n",
      "0.02139275177242303\n",
      "(169648, 23) (169648, 1)\n",
      "0.02140509071220795\n",
      "(169848, 23) (169848, 1)\n",
      "0.021404768614365\n",
      "(170048, 23) (170048, 1)\n",
      "0.02141601468239398\n"
     ]
    }
   ],
   "source": [
    "for _ in range(10):\n",
    "\n",
    "    least_error_df = pd.DataFrame()\n",
    "    min_error = 10000000\n",
    "    least_error_index = 10000000\n",
    "    \n",
    "    for index, chunk in enumerate(df_chunks):\n",
    "        #print(\"At index:\", index)\n",
    "        y_pred = clean_model.predict(chunk)\n",
    "        rmse = mean_squared_error(y_chunks[index], y_pred)\n",
    "        #print(\"rmse of current chunk: \", rmse)\n",
    "        if(rmse < min_error):\n",
    "            min_error = rmse\n",
    "            least_error_df = chunk\n",
    "            least_error_index = index\n",
    "            #print(\"Min error is now: \", min_error)\n",
    "\n",
    "    \n",
    "    least_error_df = pd.DataFrame(least_error_df.iloc[:,:].values)    \n",
    "    x_new = x_new.append(least_error_df)\n",
    "    y_new = y_new.append(y_chunks[least_error_index])\n",
    "\n",
    "    del df_chunks[least_error_index]\n",
    "    del y_chunks[least_error_index]\n",
    "    \n",
    "    print(x_new.shape, y_new.shape)\n",
    "\n",
    "    X_train, X_test, y_train, y_test = train_test_split(x_new, y_new, test_size=0.3, random_state=0)\n",
    "    regressor = LinearRegression()  \n",
    "    LIR=regressor.fit(X_train, y_train) \n",
    "    y_clean_pred = LIR.predict(x_clean)\n",
    "\n",
    "    from sklearn.metrics import mean_squared_error\n",
    "    rmse = mean_squared_error(y_clean, y_clean_pred)\n",
    "    rmse_array.append(rmse)\n",
    "    print(rmse)\n"
   ]
  },
  {
   "cell_type": "code",
   "execution_count": 31,
   "metadata": {},
   "outputs": [
    {
     "data": {
      "image/png": "[encoded data removed]",
      "text/plain": [
       "<Figure size 432x288 with 1 Axes>"
      ]
     },
     "metadata": {
      "needs_background": "light"
     },
     "output_type": "display_data"
    }
   ],
   "source": [
    "import numpy as np  \n",
    "import matplotlib.pyplot as plt  \n",
    "  \n",
    "# data to be plotted \n",
    "x = [1,2,3,4,5,6,7,8,9,10]\n",
    "y = rmse_array\n",
    "  \n",
    "# plotting \n",
    "plt.title(\"RMSE increasing after each iteration\")  \n",
    "plt.xlabel(\"Iteration\")  \n",
    "plt.ylabel(\"RMSE\")  \n",
    "plt.ylim([0.0212, 0.0216])\n",
    "plt.plot(x, y, color =\"red\")  \n",
    "plt.show()"
   ]
  },
  {
   "cell_type": "code",
   "execution_count": 24,
   "metadata": {},
   "outputs": [
    {
     "data": {
      "image/png": "[encoded data removed]",
      "text/plain": [
       "<Figure size 432x288 with 1 Axes>"
      ]
     },
     "metadata": {
      "needs_background": "light"
     },
     "output_type": "display_data"
    }
   ],
   "source": [
    "rmse_poisoned = pickle.load(open('rmse_poison.sav', 'rb'))\n",
    "rmse_defended = rmse_array[-1]\n",
    "\n",
    "x = ['Attacked', 'Defended']\n",
    "y = [rmse_poisoned, rmse_defended]\n",
    "  \n",
    "# plotting \n",
    "plt.title(\"RMSE without defense and with defense\")  \n",
    "plt.xlabel(\"Defense applied or not\")  \n",
    "plt.ylabel(\"RMSE\")  \n",
    "plt.ylim([0.021, 0.0225])\n",
    "plt.bar(x, y)  \n",
    "plt.show()"
   ]
  },
  {
   "cell_type": "code",
   "execution_count": 25,
   "metadata": {},
   "outputs": [
    {
     "name": "stdout",
     "output_type": "stream",
     "text": [
      "(170048, 23) (170048, 1)\n"
     ]
    }
   ],
   "source": [
    "print(x_new.shape, y_new.shape)"
   ]
  },
  {
   "cell_type": "code",
   "execution_count": 26,
   "metadata": {},
   "outputs": [
    {
     "name": "stdout",
     "output_type": "stream",
     "text": [
      "70 70\n"
     ]
    }
   ],
   "source": [
    "print(len(df_chunks), len(y_chunks))"
   ]
  },
  {
   "cell_type": "code",
   "execution_count": 27,
   "metadata": {},
   "outputs": [],
   "source": [
    "rmse_clean = pickle.load(open('rmse_clean.sav', 'rb'))"
   ]
  },
  {
   "cell_type": "code",
   "execution_count": 28,
   "metadata": {},
   "outputs": [
    {
     "data": {
      "image/png": "[encoded data removed]",
      "text/plain": [
       "<Figure size 432x288 with 1 Axes>"
      ]
     },
     "metadata": {
      "needs_background": "light"
     },
     "output_type": "display_data"
    }
   ],
   "source": [
    "x = ['Original', 'Attacked', 'Defended']\n",
    "y = [rmse_clean, rmse_poisoned, rmse_defended]\n",
    "  \n",
    "# plotting \n",
    "plt.title(\"RMSE at different stages\")  \n",
    "plt.xlabel(\"Stages\")  \n",
    "plt.ylabel(\"RMSE\")  \n",
    "plt.ylim([0.021, 0.0225])\n",
    "plt.bar(x, y)  \n",
    "plt.show()"
   ]
  },
  {
   "cell_type": "code",
   "execution_count": null,
   "metadata": {},
   "outputs": [],
   "source": []
  },
  {
   "cell_type": "code",
   "execution_count": null,
   "metadata": {},
   "outputs": [],
   "source": []
  }
 ],
 "metadata": {
  "kernelspec": {
   "display_name": "Python 3",
   "language": "python",
   "name": "python3"
  },
  "language_info": {
   "codemirror_mode": {
    "name": "ipython",
    "version": 3
   },
   "file_extension": ".py",
   "mimetype": "text/x-python",
   "name": "python",
   "nbconvert_exporter": "python",
   "pygments_lexer": "ipython3",
   "version": "3.8.3"
  }
 },
 "nbformat": 4,
 "nbformat_minor": 4
}
